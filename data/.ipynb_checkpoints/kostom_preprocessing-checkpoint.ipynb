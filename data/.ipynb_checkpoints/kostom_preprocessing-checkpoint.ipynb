{
 "cells": [
  {
   "cell_type": "markdown",
   "id": "eed18b19",
   "metadata": {},
   "source": [
    "# Preprocessing for Korean/English Medical Term Embedding"
   ]
  },
  {
   "cell_type": "code",
   "execution_count": 1,
   "id": "444f298c",
   "metadata": {},
   "outputs": [],
   "source": [
    "import random\n",
    "import itertools\n",
    "import pandas as pd\n",
    "from tqdm.auto import tqdm"
   ]
  },
  {
   "cell_type": "markdown",
   "id": "7b9b4fd5",
   "metadata": {},
   "source": [
    "### (1) KOSTOM Preprocessing"
   ]
  },
  {
   "cell_type": "code",
   "execution_count": 2,
   "id": "61e622b4",
   "metadata": {},
   "outputs": [],
   "source": [
    "# KOSMOTM 데이터를 불러들인다. \n",
    "with open('kostom.txt', 'r', encoding='cp949') as f:\n",
    "    file = f.readlines()"
   ]
  },
  {
   "cell_type": "code",
   "execution_count": 3,
   "id": "3369017e",
   "metadata": {},
   "outputs": [
    {
     "name": "stdout",
     "output_type": "stream",
     "text": [
      "Data Size:  339200\n",
      "Data Sample:  H00000018\tH00000018\tA Ab:Pr:Pt:Ser/Plas:Ord\tA 항체:존재:검사시점:혈청/혈장:순위척도\tC0482065\t\t\t817-7\t\t\t\t\t\n",
      "\n"
     ]
    }
   ],
   "source": [
    "print('Data Size: ', len(file))\n",
    "print('Data Sample: ', file[1])"
   ]
  },
  {
   "cell_type": "code",
   "execution_count": 4,
   "id": "cb7feb89",
   "metadata": {},
   "outputs": [
    {
     "data": {
      "application/vnd.jupyter.widget-view+json": {
       "model_id": "5a194e99f5b44a64813c731f9382dffa",
       "version_major": 2,
       "version_minor": 0
      },
      "text/plain": [
       "  0%|          | 0/339199 [00:00<?, ?it/s]"
      ]
     },
     "metadata": {},
     "output_type": "display_data"
    },
    {
     "name": "stdout",
     "output_type": "stream",
     "text": [
      "ENG:  207835\n",
      "KOR:  207835\n",
      "NO_CODE:  131364\n"
     ]
    }
   ],
   "source": [
    "# 영어 데이터와 한국어 데이터를 구분하여 리스트에 담는다. \n",
    "cleaned_kostom_ENG, cleaned_kostom_KOR, cleaned_kostom_none = [], [], []\n",
    "\n",
    "for i in tqdm(file[1:]):  # file[0] is a header.\n",
    "    lst = i.rstrip(\"\\n\").split(\"\\t\")\n",
    "    cui = lst[4]\n",
    "    eng = lst[2].replace('\\\"', '')\n",
    "    kor = lst[3].replace('\\\"', '')\n",
    "        \n",
    "    if cui == '': # umls코드가 부여되지 않은 경우 별도의 리스트에 담는다.\n",
    "        row = eng.lower() + \"||\" + kor\n",
    "        cleaned_kostom_none.append(row)\n",
    "        continue\n",
    "\n",
    "    row_eng = cui + \"||\" + eng.lower()\n",
    "    row_kor = cui + \"||\" + kor\n",
    "    \n",
    "    cleaned_kostom_ENG.append(row_eng) \n",
    "    cleaned_kostom_KOR.append(row_kor)\n",
    "    \n",
    "print('ENG: ', len(cleaned_kostom_ENG))\n",
    "print('KOR: ', len(cleaned_kostom_KOR))\n",
    "print('NO_CODE: ', len(cleaned_kostom_none))"
   ]
  },
  {
   "cell_type": "code",
   "execution_count": 5,
   "id": "d73bb092",
   "metadata": {},
   "outputs": [
    {
     "name": "stdout",
     "output_type": "stream",
     "text": [
      "173267\n",
      "166566\n",
      "131308\n"
     ]
    }
   ],
   "source": [
    "# 중복 데이터를 제거한다. \n",
    "cleaned_dedup_kostom_ENG = list(set(cleaned_kostom_ENG))\n",
    "cleaned_dedup_kostom_KOR = list(set(cleaned_kostom_KOR))\n",
    "cleaned_dedup_kostom_none = list(set(cleaned_kostom_none))\n",
    "\n",
    "print(len(cleaned_dedup_kostom_ENG))\n",
    "print(len(cleaned_dedup_kostom_KOR))\n",
    "print(len(cleaned_dedup_kostom_none))"
   ]
  },
  {
   "cell_type": "code",
   "execution_count": 6,
   "id": "10de709f",
   "metadata": {},
   "outputs": [
    {
     "name": "stdout",
     "output_type": "stream",
     "text": [
      "C0263151||cellulitis of perineum\n",
      "C0546910||분지\n",
      "spleen and stomach dampness-heat pattern||비위습열증\n"
     ]
    }
   ],
   "source": [
    "print(cleaned_dedup_kostom_ENG[0])\n",
    "print(cleaned_dedup_kostom_KOR[0])\n",
    "print(cleaned_dedup_kostom_none[0])"
   ]
  },
  {
   "cell_type": "markdown",
   "id": "8c6c0898-8ce0-4d84-b0ce-e5310a06a5e3",
   "metadata": {},
   "source": [
    "### (2) Positive Pairs Generation"
   ]
  },
  {
   "cell_type": "code",
   "execution_count": 7,
   "id": "56640a29-68f5-4035-b60a-42b5ce8ffc82",
   "metadata": {},
   "outputs": [],
   "source": [
    "umls_ENG_KOR = cleaned_dedup_kostom_ENG + cleaned_dedup_kostom_KOR"
   ]
  },
  {
   "cell_type": "code",
   "execution_count": 8,
   "id": "79399289-d5b5-455a-b3a4-5386b1cdd541",
   "metadata": {},
   "outputs": [
    {
     "data": {
      "application/vnd.jupyter.widget-view+json": {
       "model_id": "184ede2b6c6f4cc9969689adf7ffea5c",
       "version_major": 2,
       "version_minor": 0
      },
      "text/plain": [
       "  0%|          | 0/339833 [00:00<?, ?it/s]"
      ]
     },
     "metadata": {},
     "output_type": "display_data"
    }
   ],
   "source": [
    "# cui를 기준으로 딕셔너리를 생성한다.\n",
    "umls_dict = {}\n",
    "for line in tqdm(umls_ENG_KOR):\n",
    "    cui, name = line.split(\"||\")\n",
    "    if cui in umls_dict:\n",
    "        umls_dict[cui].append(name)\n",
    "    else:\n",
    "        umls_dict[cui] = [name]"
   ]
  },
  {
   "cell_type": "code",
   "execution_count": 9,
   "id": "29067d24-866c-4c4b-80c6-a995a3edd674",
   "metadata": {},
   "outputs": [],
   "source": [
    "def gen_pairs(input_list):\n",
    "    return list(itertools.combinations(input_list, r=2))"
   ]
  },
  {
   "cell_type": "code",
   "execution_count": 10,
   "id": "87fad46c-73d3-4298-9db3-7fa44809a1b0",
   "metadata": {},
   "outputs": [
    {
     "data": {
      "application/vnd.jupyter.widget-view+json": {
       "model_id": "a053ede76ac84feebd39483935a3b8e0",
       "version_major": 2,
       "version_minor": 0
      },
      "text/plain": [
       "  0%|          | 0/117830 [00:00<?, ?it/s]"
      ]
     },
     "metadata": {},
     "output_type": "display_data"
    }
   ],
   "source": [
    "# 동일한 cui의 병명을 pari로 구성한다.\n",
    "random.seed(42)\n",
    "\n",
    "pos_pairs = []\n",
    "for k,v in tqdm(umls_dict.items()):\n",
    "    pairs = gen_pairs(v)\n",
    "    if len(pairs) > 50: # if >50 pairs, then trim to 50 pairs\n",
    "        pairs = random.sample(pairs, 50)\n",
    "    for p in pairs:\n",
    "        p_0 = p[0].replace(',', '').replace('\\'', '').replace('\\\"', '')\n",
    "        p_1 = p[1].replace(',', '').replace('\\'', '').replace('\\\"', '')\n",
    "        # additional preprocessing\n",
    "        keywords = ['n/a', 'nan', 'null', '']\n",
    "        if p_0 not in keywords and p_1 not in keywords:\n",
    "            line = [p_0, p_1, str(k)]\n",
    "            pos_pairs.append(line)"
   ]
  },
  {
   "cell_type": "code",
   "execution_count": 11,
   "id": "7f4d5ed9-697b-47ca-bd95-5e792b1359f6",
   "metadata": {},
   "outputs": [
    {
     "name": "stdout",
     "output_type": "stream",
     "text": [
      "421914\n"
     ]
    }
   ],
   "source": [
    "print(len(pos_pairs))"
   ]
  },
  {
   "cell_type": "code",
   "execution_count": 12,
   "id": "b827c0e6-a71e-4981-8580-933002acf2fa",
   "metadata": {},
   "outputs": [
    {
     "data": {
      "text/plain": [
       "['cellulitis of perineum', '회음의 연조직염', 'C0263151']"
      ]
     },
     "execution_count": 12,
     "metadata": {},
     "output_type": "execute_result"
    }
   ],
   "source": [
    "pos_pairs[0]"
   ]
  },
  {
   "cell_type": "markdown",
   "id": "1009ad6c-a3bb-430b-9c60-8db2f27e9c82",
   "metadata": {},
   "source": [
    "### (3) Save File"
   ]
  },
  {
   "cell_type": "code",
   "execution_count": 13,
   "id": "ad5c2775-b866-4832-89da-eff55111cc11",
   "metadata": {},
   "outputs": [
    {
     "data": {
      "text/html": [
       "<div>\n",
       "<style scoped>\n",
       "    .dataframe tbody tr th:only-of-type {\n",
       "        vertical-align: middle;\n",
       "    }\n",
       "\n",
       "    .dataframe tbody tr th {\n",
       "        vertical-align: top;\n",
       "    }\n",
       "\n",
       "    .dataframe thead th {\n",
       "        text-align: right;\n",
       "    }\n",
       "</style>\n",
       "<table border=\"1\" class=\"dataframe\">\n",
       "  <thead>\n",
       "    <tr style=\"text-align: right;\">\n",
       "      <th></th>\n",
       "      <th>sent0</th>\n",
       "      <th>sent1</th>\n",
       "      <th>label</th>\n",
       "    </tr>\n",
       "  </thead>\n",
       "  <tbody>\n",
       "    <tr>\n",
       "      <th>0</th>\n",
       "      <td>도약맥박</td>\n",
       "      <td>센맥박</td>\n",
       "      <td>C0425574</td>\n",
       "    </tr>\n",
       "    <tr>\n",
       "      <th>1</th>\n",
       "      <td>요관 결찰 제거</td>\n",
       "      <td>요관 묶기 제거</td>\n",
       "      <td>C0177019</td>\n",
       "    </tr>\n",
       "    <tr>\n",
       "      <th>2</th>\n",
       "      <td>synotia</td>\n",
       "      <td>합이증</td>\n",
       "      <td>C0266677</td>\n",
       "    </tr>\n",
       "    <tr>\n",
       "      <th>3</th>\n",
       "      <td>novolin:mcnc:pt:ser/plas:qn</td>\n",
       "      <td>velosulin:mcnc:pt:ser/plas:qn</td>\n",
       "      <td>C0800147</td>\n",
       "    </tr>\n",
       "    <tr>\n",
       "      <th>4</th>\n",
       "      <td>피막절개(술)</td>\n",
       "      <td>수정체낭절개(술)</td>\n",
       "      <td>C3701588</td>\n",
       "    </tr>\n",
       "  </tbody>\n",
       "</table>\n",
       "</div>"
      ],
      "text/plain": [
       "                         sent0                          sent1     label\n",
       "0                         도약맥박                            센맥박  C0425574\n",
       "1                     요관 결찰 제거                       요관 묶기 제거  C0177019\n",
       "2                      synotia                            합이증  C0266677\n",
       "3  novolin:mcnc:pt:ser/plas:qn  velosulin:mcnc:pt:ser/plas:qn  C0800147\n",
       "4                      피막절개(술)                      수정체낭절개(술)  C3701588"
      ]
     },
     "execution_count": 13,
     "metadata": {},
     "output_type": "execute_result"
    }
   ],
   "source": [
    "# Dataframe으로 변환 후 csv 파일로 저장.\n",
    "random.shuffle(pos_pairs)\n",
    "df = pd.DataFrame(pos_pairs, columns=['sent0', 'sent1', 'label'])\n",
    "df.head()"
   ]
  },
  {
   "cell_type": "code",
   "execution_count": 14,
   "id": "49f7fcee-b85c-4fbe-915f-589e20178162",
   "metadata": {},
   "outputs": [],
   "source": [
    "df.to_csv('kostom_pair.csv', sep='\\t', index=False)"
   ]
  }
 ],
 "metadata": {
  "kernelspec": {
   "display_name": "Python 3 (ipykernel)",
   "language": "python",
   "name": "python3"
  },
  "language_info": {
   "codemirror_mode": {
    "name": "ipython",
    "version": 3
   },
   "file_extension": ".py",
   "mimetype": "text/x-python",
   "name": "python",
   "nbconvert_exporter": "python",
   "pygments_lexer": "ipython3",
   "version": "3.8.0"
  }
 },
 "nbformat": 4,
 "nbformat_minor": 5
}
